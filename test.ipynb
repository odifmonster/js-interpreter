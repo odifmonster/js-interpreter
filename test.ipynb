{
 "cells": [
  {
   "cell_type": "code",
   "execution_count": 1,
   "metadata": {},
   "outputs": [],
   "source": [
    "with open(\"src/grammar/interp.gram\") as gramfile:\n",
    "    flines = [line.strip() for line in gramfile]"
   ]
  },
  {
   "cell_type": "code",
   "execution_count": 2,
   "metadata": {},
   "outputs": [],
   "source": [
    "groups: list[str] = []\n",
    "cur_group = \"\"\n",
    "\n",
    "for line in flines:\n",
    "    if \"::=\" in line and cur_group:\n",
    "        groups.append(cur_group)\n",
    "        cur_group = line\n",
    "    else:\n",
    "        cur_group = cur_group + line\n",
    "\n",
    "groups.append(cur_group)"
   ]
  },
  {
   "cell_type": "code",
   "execution_count": 3,
   "metadata": {},
   "outputs": [],
   "source": [
    "def split_strip(s: str, sep: str) -> list[str]:\n",
    "    return [x.strip() for x in s.split(sep)]"
   ]
  },
  {
   "cell_type": "code",
   "execution_count": 4,
   "metadata": {},
   "outputs": [],
   "source": [
    "delta: dict[str, list[tuple[str, str]]] = {}\n",
    "ops: set[str] = set()\n",
    "\n",
    "for group in groups:\n",
    "    symbol, rhs_str = split_strip(group, \"::=\")\n",
    "    \n",
    "    if symbol == \"OPS\":\n",
    "        ops.update(rhs_str.split())\n",
    "    else:\n",
    "        delta[symbol] = []\n",
    "        rhs_list = split_strip(rhs_str, \"\\\\\")\n",
    "        for item in rhs_list:\n",
    "            cats, act = split_strip(item, \"___\")\n",
    "            act = act[1:-1].strip()\n",
    "            delta[symbol].append((cats, act))"
   ]
  },
  {
   "cell_type": "code",
   "execution_count": 6,
   "metadata": {},
   "outputs": [],
   "source": [
    "def parse_rule(rule: str) -> list[tuple[str, str | list[str]]]:\n",
    "    parsed: list[tuple[str, str | list[str]]] = []\n",
    "\n",
    "    in_opt = False\n",
    "    in_star = False\n",
    "    cur_group: list[str] = []\n",
    "\n",
    "    for item in rule.split():\n",
    "        if item == '[':\n",
    "            in_star = True\n",
    "        elif item == ']':\n",
    "            in_star = False\n",
    "            parsed.append(('star', cur_group))\n",
    "            cur_group = []\n",
    "        elif item == '(':\n",
    "            in_opt = True\n",
    "        elif item == ')':\n",
    "            in_opt = False\n",
    "            parsed.append(('opt', cur_group))\n",
    "            cur_group = []\n",
    "        elif in_opt or in_star: cur_group.append(item)\n",
    "        else:\n",
    "            parsed.append(('symbol', item))\n",
    "    \n",
    "    return parsed"
   ]
  },
  {
   "cell_type": "code",
   "execution_count": null,
   "metadata": {},
   "outputs": [],
   "source": []
  }
 ],
 "metadata": {
  "kernelspec": {
   "display_name": "Python 3",
   "language": "python",
   "name": "python3"
  },
  "language_info": {
   "codemirror_mode": {
    "name": "ipython",
    "version": 3
   },
   "file_extension": ".py",
   "mimetype": "text/x-python",
   "name": "python",
   "nbconvert_exporter": "python",
   "pygments_lexer": "ipython3",
   "version": "3.12.7"
  }
 },
 "nbformat": 4,
 "nbformat_minor": 2
}
